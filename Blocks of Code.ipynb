{
 "cells": [
  {
   "cell_type": "markdown",
   "metadata": {},
   "source": [
    "# LEGO BLOCK CODE\n",
    "Blocks of code that can be used to build the full bot."
   ]
  },
  {
   "cell_type": "markdown",
   "metadata": {},
   "source": [
    "## Required Libraries"
   ]
  },
  {
   "cell_type": "code",
   "execution_count": 18,
   "metadata": {},
   "outputs": [],
   "source": [
    "from pandas.core.dtypes.missing import isna\n",
    "from selenium import webdriver\n",
    "from selenium.webdriver.chrome.options import Options\n",
    "from selenium.common.exceptions import TimeoutException\n",
    "from selenium.webdriver.common.keys import Keys\n",
    "####\n",
    "# Needed for the wait_for_xpath fucntion\n",
    "from selenium.webdriver.common.action_chains import ActionChains\n",
    "from selenium.webdriver.common.by import By\n",
    "from selenium.webdriver.support.ui import WebDriverWait\n",
    "from selenium.webdriver.support import expected_conditions as ec\n",
    "\n",
    "\n",
    "import os\n",
    "# from urllib.request import urlopen\n",
    "import pandas as pd\n",
    "import numpy as np\n",
    "# import requests\n",
    "# import csv\n",
    "# import datetime\n",
    "import time\n",
    "import random\n",
    "import pickle"
   ]
  },
  {
   "cell_type": "markdown",
   "metadata": {},
   "source": [
    "## Reading Excel File and Loop Through it"
   ]
  },
  {
   "cell_type": "code",
   "execution_count": 4,
   "metadata": {},
   "outputs": [],
   "source": [
    "df = pd.read_excel('data/PDO Staff with ID No. 19 09 2021.xlsx')"
   ]
  },
  {
   "cell_type": "code",
   "execution_count": null,
   "metadata": {},
   "outputs": [],
   "source": [
    "\n",
    "res = {}\n",
    "for index, row in df.iloc[:10].iterrows():\n",
    "    # print(row['ID No.'])\n",
    "    if not (np.isnan(row['ID No.'])):\n",
    "        mu = row['Comp. No']\n",
    "        id = int(row['ID No.'])\n",
    "        print(index)\n",
    "        print(id)\n",
    "        # we will insert the function to fetch vac details here\n",
    "        vac= \"VAC DETAILS\"\n",
    "        # a dcitionary to hold the reults\n",
    "        res[mu] = vac\n",
    "\n",
    "        #logging.info(f'MU: {mu}, ID: {id}, DATA: {vac}')\n",
    "    else:\n",
    "        print('No ID')\n",
    "\n",
    "\n",
    "print(res)\n",
    "\n",
    "# Save the Results into excel file\n",
    "\n",
    "pd.sa"
   ]
  },
  {
   "cell_type": "code",
   "execution_count": 19,
   "metadata": {},
   "outputs": [],
   "source": [
    "# Save the dictionary at every iteration\n",
    "# This should go inside the above loop to ensure that we don't loos the data if error happen\n",
    "with open('data/Vac.pickle', 'wb') as f:\n",
    "    pickle.dump(res, f)\n"
   ]
  },
  {
   "cell_type": "code",
   "execution_count": 20,
   "metadata": {},
   "outputs": [],
   "source": [
    "# Save the ditionary to Excel file\n",
    "df = pd.DataFrame(res, index=[0]).T.reset_index()\n",
    "df\n",
    "df.columns = ['MU', 'Vaccine']\n",
    "\n",
    "df.to_excel('data/results.xlsx')"
   ]
  },
  {
   "cell_type": "markdown",
   "metadata": {},
   "source": [
    "# Breakdown the Results into the final Excel File"
   ]
  },
  {
   "cell_type": "code",
   "execution_count": null,
   "metadata": {},
   "outputs": [],
   "source": [
    "df = pd.read_excel(open('data/results.xlsx', 'rb'), sheet_name='FULL')  \n",
    "#df.apply (lambda row: (row['STATUS']).replace('\\t', ''), axis=1)\n",
    "\n",
    "#df['STATUS'].replace('\\t', '').split('\\n')\n",
    "def break_list(lst):\n",
    "    size = len(lst)\n",
    "    idx_list = [idx + 1 for idx, val in\n",
    "                enumerate(lst) if val == '']\n",
    "    \n",
    "    \n",
    "    res = [lst[i: j] for i, j in\n",
    "            zip([0] + idx_list, idx_list + \n",
    "            ([size] if idx_list[-1] != size else []))]\n",
    "    return (res)\n",
    "\n",
    "\n",
    "def parse(row):\n",
    "    res = []\n",
    "    try:\n",
    "        txtbd = (row['STATUS'].replace('\\t', '').split('\\n'))\n",
    "        cnt =len(txtbd)\n",
    "    except:\n",
    "        cnt = 0\n",
    "    #{0, 1, 5, 11}\n",
    "    if (cnt == 11):\n",
    "        \n",
    "        bd_lst = break_list(txtbd)\n",
    "        res.append({'MU': row['Comp. No'],\n",
    "        'Civil ID': row['ID No.'],\n",
    "        'Dose': 1 , \n",
    "        'Vaccine':bd_lst[0][1] , \n",
    "        'Location':bd_lst[0][2] , \n",
    "        'Date': bd_lst[0][3]})\n",
    "        \n",
    "        res.append({'MU': row['Comp. No'],\n",
    "        'Civil ID': row['ID No.'],\n",
    "        'Dose': 2 , \n",
    "        'Vaccine':bd_lst[1][1] , \n",
    "        'Location':bd_lst[1][2] , \n",
    "        'Date': bd_lst[1][3]})\n",
    "    elif( cnt == 5 ):\n",
    "        res.append({'MU': row['Comp. No'],\n",
    "        'Civil ID': row['ID No.'],\n",
    "        'Dose': 1 , \n",
    "        'Vaccine':txtbd[1] , \n",
    "        'Location':txtbd[2] , \n",
    "        'Date': txtbd[3]})\n",
    "    elif( cnt == 1 ):\n",
    "        res.append({'MU': row['Comp. No'],\n",
    "        'Civil ID': row['ID No.'],\n",
    "        'Dose': '', \n",
    "        'Vaccine':'' , \n",
    "        'Location':'' , \n",
    "        'Date': ''})  \n",
    "    elif( cnt == 0 ):\n",
    "        res.append({'MU': row['Comp. No'],\n",
    "        'Civil ID': row['ID No.'],\n",
    "        'Dose': '', \n",
    "        'Vaccine':'' , \n",
    "        'Location':'' , \n",
    "        'Date': ''})        \n",
    "\n",
    "\n",
    "    return res\n",
    "\n",
    "\n",
    "lst = []\n",
    "for index, row in df.iterrows():\n",
    "    \n",
    "    try:\n",
    "        #cnt = len(row['STATUS'].replace('\\t', '').split('\\n'))\n",
    "        res = parse(row)\n",
    "    except:\n",
    "        cnt = 0\n",
    "        res = NA\n",
    "        #print(index)\n",
    "        #print(row['STATUS'])\n",
    "\n",
    "    lst.append(res)"
   ]
  },
  {
   "cell_type": "code",
   "execution_count": null,
   "metadata": {},
   "outputs": [],
   "source": [
    "flat_list = [item for lst in lst for item in lst]\n",
    "\n",
    "df1 = pd.DataFrame.from_dict(flat_list)\n",
    "df1.to_excel('Vaccine_Dataset.xlsx')"
   ]
  }
 ],
 "metadata": {
  "interpreter": {
   "hash": "e4311ce13244e9bfdfd230db87f614fba47934ba5d9ce7fcd1d97fb125de28bc"
  },
  "kernelspec": {
   "display_name": "Python 3.7.4 64-bit ('base': conda)",
   "name": "python3"
  },
  "language_info": {
   "name": "python",
   "version": ""
  },
  "orig_nbformat": 4
 },
 "nbformat": 4,
 "nbformat_minor": 2
}